{
 "cells": [
  {
   "cell_type": "code",
   "execution_count": 1,
   "id": "39d26a59",
   "metadata": {},
   "outputs": [],
   "source": [
    "import numpy as np\n",
    "import pandas as pd"
   ]
  },
  {
   "cell_type": "code",
   "execution_count": 19,
   "id": "c2b844b6",
   "metadata": {},
   "outputs": [],
   "source": [
    "data = pd.read_csv(\"test.csv\")\n",
    "x = np.array(data['x'])\n",
    "y = np.array(data['y'])"
   ]
  },
  {
   "cell_type": "code",
   "execution_count": 20,
   "id": "c776d212",
   "metadata": {},
   "outputs": [
    {
     "ename": "SyntaxError",
     "evalue": "incomplete input (1358451607.py, line 1)",
     "output_type": "error",
     "traceback": [
      "\u001b[0;36m  Cell \u001b[0;32mIn[20], line 1\u001b[0;36m\u001b[0m\n\u001b[0;31m    def univariateLinearRegression(x_train, y_train, w_init, b_init, ):\u001b[0m\n\u001b[0m                                                                        ^\u001b[0m\n\u001b[0;31mSyntaxError\u001b[0m\u001b[0;31m:\u001b[0m incomplete input\n"
     ]
    }
   ],
   "source": [
    "w_init = 50\n",
    "b_init = 10"
   ]
  },
  {
   "cell_type": "code",
   "execution_count": null,
   "id": "e6f326ea",
   "metadata": {},
   "outputs": [],
   "source": [
    "def calcSquaredError(x, y, w, b): \n",
    "    squaredError = 0\n",
    "    for i in np.arange(len(x)):\n",
    "        y_hat = w*x[i] + b\n",
    "        error = y_hat - y\n",
    "        squaredError += error**2\n",
    "    \n",
    "    return squaredError\n",
    "\n",
    "def univariateLinearRegression(x_train, y_train, w_init, b_init, alpha): \n",
    "    m = len(x_train)\n",
    "    w = w_init\n",
    "    b = b_init\n",
    "    for i in np.arange(100):\n",
    "        J = (1 / (2*m)) * calcSquaredError(x_train, y_train, w, b)"
   ]
  }
 ],
 "metadata": {
  "kernelspec": {
   "display_name": "Python 3 (ipykernel)",
   "language": "python",
   "name": "python3"
  },
  "language_info": {
   "codemirror_mode": {
    "name": "ipython",
    "version": 3
   },
   "file_extension": ".py",
   "mimetype": "text/x-python",
   "name": "python",
   "nbconvert_exporter": "python",
   "pygments_lexer": "ipython3",
   "version": "3.10.4"
  }
 },
 "nbformat": 4,
 "nbformat_minor": 5
}
