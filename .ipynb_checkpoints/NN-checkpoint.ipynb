{
 "cells": [
  {
   "cell_type": "markdown",
   "id": "9a331ea9",
   "metadata": {},
   "source": [
    "# Forward propagation"
   ]
  },
  {
   "cell_type": "code",
   "execution_count": 37,
   "id": "ca56d9f2",
   "metadata": {},
   "outputs": [],
   "source": [
    "import numpy as np\n",
    "import tensorflow as tf"
   ]
  },
  {
   "cell_type": "code",
   "execution_count": 123,
   "id": "343e010c",
   "metadata": {},
   "outputs": [],
   "source": [
    "def load_coffee_data():\n",
    "    \"\"\" Creates a coffee roasting data set.\n",
    "        roasting duration: 12-15 minutes is best\n",
    "        temperature range: 175-260C is best\n",
    "    \"\"\"\n",
    "    rng = np.random.default_rng(2)\n",
    "    X = rng.random(400).reshape(-1,2)\n",
    "    X[:,1] = X[:,1] * 4 + 11.5          # 12-15 min is best\n",
    "    X[:,0] = X[:,0] * (285-150) + 150  # 350-500 F (175-260 C) is best\n",
    "    Y = np.zeros(len(X))\n",
    "    \n",
    "    i=0\n",
    "    for t,d in X:\n",
    "        y = -3/(260-175)*t + 21\n",
    "        if (t > 175 and t < 260 and d > 12 and d < 15 and d<=y ):\n",
    "            Y[i] = 1\n",
    "        else:\n",
    "            Y[i] = 0\n",
    "        i += 1\n",
    "\n",
    "    return (X, Y.reshape(-1,1))\n",
    "\n",
    "X_train, Y_train = load_coffee_data()\n",
    "norm = tf.keras.layers.Normalization(axis=-1)\n",
    "norm.adapt(X_train)\n",
    "X_train = norm(X_train)\n",
    "m = X_train.shape[0] # number of training examples\n",
    "n = X_train.shape[1] # number of features"
   ]
  },
  {
   "cell_type": "code",
   "execution_count": 156,
   "id": "c807420e",
   "metadata": {},
   "outputs": [
    {
     "name": "stdout",
     "output_type": "stream",
     "text": [
      "t: -0.8345550894737244,  d: -0.6528791785240173\n",
      "1 vs. 1\n",
      "\n",
      "t: 1.032305121421814,  d: -1.3851453065872192\n",
      "1 vs. 0\n",
      "\n",
      "t: 0.3089390993118286,  d: 0.8716251254081726\n",
      "1 vs. 0\n",
      "\n",
      "t: -1.083568811416626,  d: -1.515484094619751\n",
      "1 vs. 0\n",
      "\n",
      "t: -0.7894312739372253,  d: 0.6194934844970703\n",
      "1 vs. 1\n",
      "\n",
      "t: 0.18112416565418243,  d: -1.1790282726287842\n",
      "1 vs. 1\n",
      "\n",
      "t: -0.25681355595588684,  d: 0.6615495085716248\n",
      "1 vs. 0\n",
      "\n",
      "t: -0.29007601737976074,  d: 0.5335373282432556\n",
      "1 vs. 0\n",
      "\n",
      "t: 1.5498857498168945,  d: 0.7103531956672668\n",
      "1 vs. 0\n",
      "\n",
      "t: -0.39534124732017517,  d: -1.0471969842910767\n",
      "1 vs. 1\n",
      "\n"
     ]
    }
   ],
   "source": [
    "class Dense:\n",
    "    def __init__(self, units, activation=None):\n",
    "        self.units = units\n",
    "        self.activation = tf.keras.activations.get(activation)\n",
    "        self.W = None\n",
    "        self.b = None\n",
    "        self.built = False\n",
    "    \n",
    "    def build(self, input_shape):\n",
    "        self.W = np.random.uniform(-1, 1,(input_shape, self.units))\n",
    "        self.b = np.random.randint(-5,5,(self.units,))\n",
    "        self.built = True\n",
    "    \n",
    "    def get_weights(self):\n",
    "        return (self.W, self.b)\n",
    "    \n",
    "    def call(self, a_in):\n",
    "        if self.built == False:\n",
    "            raise Error(\"Layer has not been built yet\")\n",
    "        \n",
    "        Z = np.dot(np.transpose(self.W), a_in) + self.b\n",
    "        return self.activation(Z)\n",
    "\n",
    "class Sequential:\n",
    "    def __init__(self, layers):\n",
    "        self.input_shape = None;\n",
    "        self.layers = layers\n",
    "        self.built = False;\n",
    "        \n",
    "    def build(self, X):\n",
    "        a_in = X[0]\n",
    "        size = self.input_shape or a_in.shape[0]\n",
    "        for layer in self.layers:\n",
    "            layer.build(size)\n",
    "            a_in = layer.call(a_in)\n",
    "            size = a_in.shape[0]\n",
    "        self.built = True\n",
    "     \n",
    "    def forwardProp(self, x):\n",
    "        a_in = x\n",
    "        for layer in self.layers:\n",
    "            a_in = layer.call(a_in)\n",
    "        a_out = a_in    \n",
    "        return a_out\n",
    "    \n",
    "    def predict(self, x):\n",
    "        if not (self.built):\n",
    "            raise Error('Model has not been built yet')\n",
    "        return self.forwardProp(x)\n",
    "    \n",
    "    def __str__(self):\n",
    "        print('\\nSequential\\n')\n",
    "        for layer in self.layers:\n",
    "            if layer.built:\n",
    "                print('W shape:', layer.get_weights()[0].shape)\n",
    "                print('b shape:', layer.get_weights()[1].shape)\n",
    "                print('\\n')\n",
    "        \n",
    "        return ''\n",
    "\n",
    "model = Sequential([\n",
    "    Dense(10, activation='relu'),\n",
    "    Dense(5, activation='relu'),\n",
    "    Dense(1, activation='sigmoid')\n",
    "])\n",
    "\n",
    "model.build(X_train)\n",
    "for i in range(10):\n",
    "    print('t: {},  d: {}'.format(X_train[i][0], X_train[i][1]))\n",
    "    prediction = model.predict(X_train[i])\n",
    "    expected = Y_train[i]\n",
    "    print('{} vs. {}'.format(0 if prediction < 0.5 else 1, int(expected[0])))\n",
    "    print()"
   ]
  },
  {
   "cell_type": "code",
   "execution_count": 140,
   "id": "877d2d71",
   "metadata": {},
   "outputs": [],
   "source": [
    "def Dense(a_in, W, b):\n",
    "    \"\"\"\n",
    "    Computes dense layer\n",
    "    Args:\n",
    "      a_in (ndarray (n, )) : Data, 1 example \n",
    "      W    (ndarray (n,j)) : Weight matrix, n features per unit, j units\n",
    "      b    (ndarray (j, )) : bias vector, j units  \n",
    "    Returns\n",
    "      a_out (ndarray (j,))  : j units|\n",
    "    \"\"\"\n",
    "    units = W.shape[1]\n",
    "    a_out = np.zeros(units)\n",
    "    for j in range(units):\n",
    "        w = W[:,j]\n",
    "        z = np.dot(w, a_in) + b[j]\n",
    "        a_out[j] = g(z)\n",
    "    \n",
    "    return a_out"
   ]
  },
  {
   "cell_type": "code",
   "execution_count": 27,
   "id": "23b0015f",
   "metadata": {},
   "outputs": [],
   "source": [
    "def Sequential(x, *args):\n",
    "    a_prev = x;\n",
    "    a_next = None;\n",
    "    for W, b in args:\n",
    "        a_next = Dense(a_prev, W, b)\n",
    "        a_prev = a_next\n",
    "    return a_next"
   ]
  },
  {
   "cell_type": "code",
   "execution_count": 28,
   "id": "5865338a",
   "metadata": {},
   "outputs": [],
   "source": [
    "W1_tmp = np.array( [[-8.93,  0.29, 12.9 ], [-0.1,  -7.32, 10.81]] )\n",
    "b1_tmp = np.array( [-9.82, -9.28,  0.96] )\n",
    "W2_tmp = np.array( [[-31.18], [-27.59], [-32.56]] )\n",
    "b2_tmp = np.array( [15.41] )"
   ]
  },
  {
   "cell_type": "code",
   "execution_count": 29,
   "id": "bfce1e65",
   "metadata": {},
   "outputs": [
    {
     "name": "stdout",
     "output_type": "stream",
     "text": [
      "Predicted 1, expected [1.] -> correct\n",
      "Predicted 0, expected [0.] -> correct\n",
      "Predicted 0, expected [0.] -> correct\n",
      "Predicted 0, expected [0.] -> correct\n",
      "Predicted 1, expected [1.] -> correct\n",
      "Predicted 1, expected [1.] -> correct\n",
      "Predicted 0, expected [0.] -> correct\n",
      "Predicted 0, expected [0.] -> correct\n",
      "Predicted 0, expected [0.] -> correct\n",
      "Predicted 1, expected [1.] -> correct\n"
     ]
    }
   ],
   "source": [
    "for i in range(0, 10):\n",
    "    predicted = None;\n",
    "    y_hat = Sequential(X_train[i,:], (W1_tmp, b1_tmp), (W2_tmp, b2_tmp))\n",
    "    if y_hat > 0.5:\n",
    "        predicted = 1\n",
    "    else:\n",
    "        predicted = 0\n",
    "    \n",
    "    expected = Y_train[i]\n",
    "    print('Predicted {}, expected {} -> {}'.format(predicted, expected, \n",
    "                                                   'correct' if predicted == expected \n",
    "                                                   else 'incorrect'))"
   ]
  },
  {
   "cell_type": "code",
   "execution_count": 30,
   "id": "fad92add",
   "metadata": {},
   "outputs": [
    {
     "ename": "NameError",
     "evalue": "name 'X' is not defined",
     "output_type": "error",
     "traceback": [
      "\u001b[0;31m---------------------------------------------------------------------------\u001b[0m",
      "\u001b[0;31mNameError\u001b[0m                                 Traceback (most recent call last)",
      "Cell \u001b[0;32mIn[30], line 1\u001b[0m\n\u001b[0;32m----> 1\u001b[0m w_1 \u001b[38;5;241m=\u001b[39m np\u001b[38;5;241m.\u001b[39mrandom\u001b[38;5;241m.\u001b[39mrand(\u001b[43mX\u001b[49m\u001b[38;5;241m.\u001b[39mshape[\u001b[38;5;241m1\u001b[39m], \u001b[38;5;241m1\u001b[39m)\u001b[38;5;241m.\u001b[39mreshape(X\u001b[38;5;241m.\u001b[39mshape[\u001b[38;5;241m1\u001b[39m],)\n\u001b[1;32m      2\u001b[0m b_1 \u001b[38;5;241m=\u001b[39m np\u001b[38;5;241m.\u001b[39mrandom\u001b[38;5;241m.\u001b[39mrandint(\u001b[38;5;241m4\u001b[39m)\n\u001b[1;32m      3\u001b[0m layer_1 \u001b[38;5;241m=\u001b[39m [\n\u001b[1;32m      4\u001b[0m     [w_1,b_1]\n\u001b[1;32m      5\u001b[0m ]\n",
      "\u001b[0;31mNameError\u001b[0m: name 'X' is not defined"
     ]
    }
   ],
   "source": [
    "w_1 = np.random.rand(X.shape[1], 1).reshape(X.shape[1],)\n",
    "b_1 = np.random.randint(4)\n",
    "layer_1 = [\n",
    "    [w_1,b_1]\n",
    "]\n",
    "print(layer_1)\n",
    "# a_1 = np.dot(layer_1[0][0], X[0]) + b_1 \n",
    "\n",
    "w_2 = np.random.rand(w_1.shape[0], 1)\n",
    "b_2 = np.random.randint(4)\n",
    "layer_2 = [\n",
    "    [w_2, b_2]\n",
    "]\n",
    "print(layer_2)"
   ]
  },
  {
   "cell_type": "code",
   "execution_count": 115,
   "id": "40f3b7d1",
   "metadata": {},
   "outputs": [
    {
     "data": {
      "text/plain": [
       "5"
      ]
     },
     "execution_count": 115,
     "metadata": {},
     "output_type": "execute_result"
    }
   ],
   "source": [
    "None or 5"
   ]
  },
  {
   "cell_type": "code",
   "execution_count": null,
   "id": "9bd7f994",
   "metadata": {},
   "outputs": [],
   "source": []
  },
  {
   "cell_type": "code",
   "execution_count": null,
   "id": "ce0a3e99",
   "metadata": {},
   "outputs": [],
   "source": []
  }
 ],
 "metadata": {
  "kernelspec": {
   "display_name": "Python 3 (ipykernel)",
   "language": "python",
   "name": "python3"
  },
  "language_info": {
   "codemirror_mode": {
    "name": "ipython",
    "version": 3
   },
   "file_extension": ".py",
   "mimetype": "text/x-python",
   "name": "python",
   "nbconvert_exporter": "python",
   "pygments_lexer": "ipython3",
   "version": "3.10.4"
  }
 },
 "nbformat": 4,
 "nbformat_minor": 5
}
