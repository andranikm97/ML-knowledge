{
 "cells": [
  {
   "cell_type": "code",
   "execution_count": null,
   "id": "18978485",
   "metadata": {},
   "outputs": [],
   "source": [
    "import numpy as np\n",
    "import pandas as pd\n",
    "import math\n",
    "import matplotlib.pyplot as plt"
   ]
  },
  {
   "cell_type": "code",
   "execution_count": null,
   "id": "67029b9d",
   "metadata": {},
   "outputs": [],
   "source": [
    "def normalize(arr):\n",
    "    mu = np.mean(arr)\n",
    "    sigma = np.std(arr)\n",
    "    for i in np.arange(len(arr)):\n",
    "        arr[i] = (arr[i] - mu) / sigma\n",
    "    \n",
    "    return arr"
   ]
  },
  {
   "cell_type": "code",
   "execution_count": null,
   "id": "eed90e87",
   "metadata": {},
   "outputs": [],
   "source": [
    "data = pd.read_csv(\"train.csv\")\n",
    "x_train = normalize(np.array(data['x']))\n",
    "y_train = np.array(data['y'])"
   ]
  },
  {
   "cell_type": "code",
   "execution_count": null,
   "id": "e7bf52ac",
   "metadata": {},
   "outputs": [],
   "source": [
    "w_init = 10\n",
    "b_init = 0"
   ]
  },
  {
   "cell_type": "code",
   "execution_count": null,
   "id": "70ee0095",
   "metadata": {},
   "outputs": [],
   "source": [
    "def calcSquaredError(x, y, w, b): \n",
    "    squaredError = 0\n",
    "    for i in np.arange(len(x)):\n",
    "        y_hat = w * x[i] + b\n",
    "        error = y_hat - y[i]\n",
    "        squaredError += error**2\n",
    "    return squaredError\n",
    "\n",
    "\n",
    "def getPartialDerivatives(x,y,w,b):\n",
    "    m = len(x)\n",
    "    dj_dw = 0\n",
    "    dj_db = 0\n",
    "    \n",
    "    for i in np.arange(m):\n",
    "        y_hat = w * x[i] + b\n",
    "        error = y_hat - y[i]\n",
    "        dj_dw += x[i] * error\n",
    "        dj_db += error\n",
    "    \n",
    "    dj_dw *= 1/m\n",
    "    dj_db *= 1/m\n",
    "    \n",
    "    return dj_dw, dj_db\n",
    "    \n",
    "def univariateLinearRegression(x_train, y_train, w_init, b_init, alpha): \n",
    "    m = len(x_train)\n",
    "    w = w_init\n",
    "    b = b_init\n",
    "    J_hist = np.zeros(100)\n",
    "\n",
    "    for i in np.arange(100):\n",
    "        J = (1 / (2*m)) * calcSquaredError(x_train, y_train, w, b)\n",
    "        J_hist[i] = J\n",
    "        dj_dw, dj_db = getPartialDerivatives(x_train, y_train, w, b)\n",
    "        w = w - alpha * dj_dw\n",
    "        b = b - alpha * dj_db\n",
    "    \n",
    "    plt.plot(np.arange(100), J_hist)\n",
    "    plt.xlabel('Iteration #')\n",
    "    plt.ylabel('Cost')\n",
    "    plt.title('Model cost vs. iteration')\n",
    "    return w, b"
   ]
  },
  {
   "cell_type": "code",
   "execution_count": null,
   "id": "04e8fc59",
   "metadata": {},
   "outputs": [
    {
     "data": {
      "image/png": "[encoded data removed]",
      "text/plain": [
       "<Figure size 640x480 with 1 Axes>"
      ]
     },
     "metadata": {},
     "output_type": "display_data"
    }
   ],
   "source": [
    "alpha = 1\n",
    "w_final, b_final = univariateLinearRegression(x_train, y_train, w_init, b_init, alpha)"
   ]
  },
  {
   "cell_type": "code",
   "execution_count": null,
   "id": "74cbaf1e",
   "metadata": {},
   "outputs": [],
   "source": [
    "data = pd.read_csv(\"test.csv\")\n",
    "x_test = normalize(np.array(data['x']))\n",
    "y_test = np.array(data['y'])"
   ]
  },
  {
   "cell_type": "code",
   "execution_count": null,
   "id": "0e017e62",
   "metadata": {},
   "outputs": [],
   "source": [
    "def calculateRMSE(x_test, y_test, w, b):\n",
    "    m = len(x_test)\n",
    "    squaredError = 0\n",
    "    for i in np.arange(m):\n",
    "        y_hat = w * x_test[i] + b\n",
    "        error = y_hat - y_test[i]\n",
    "        squaredError += error**2\n",
    "    \n",
    "    return math.sqrt(squaredError / m)"
   ]
  },
  {
   "cell_type": "code",
   "execution_count": null,
   "id": "4c7ef35c",
   "metadata": {},
   "outputs": [
    {
     "data": {
      "text/plain": [
       "13.350895180551785"
      ]
     },
     "execution_count": 327,
     "metadata": {},
     "output_type": "execute_result"
    }
   ],
   "source": [
    "calculateRMSE(x_test, y_test, w_final, b_final)"
   ]
  },
  {
   "cell_type": "code",
   "execution_count": null,
   "id": "e07d0c08",
   "metadata": {},
   "outputs": [],
   "source": []
  }
 ],
 "metadata": {
  "kernelspec": {
   "display_name": "Python 3 (ipykernel)",
   "language": "python",
   "name": "python3"
  },
  "language_info": {
   "codemirror_mode": {
    "name": "ipython",
    "version": 3
   },
   "file_extension": ".py",
   "mimetype": "text/x-python",
   "name": "python",
   "nbconvert_exporter": "python",
   "pygments_lexer": "ipython3",
   "version": "3.10.4"
  }
 },
 "nbformat": 4,
 "nbformat_minor": 5
}
