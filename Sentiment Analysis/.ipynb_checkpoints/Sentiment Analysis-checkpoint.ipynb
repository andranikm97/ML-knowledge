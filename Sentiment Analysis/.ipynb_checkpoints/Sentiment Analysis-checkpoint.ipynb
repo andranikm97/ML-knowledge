{
 "cells": [
  {
   "cell_type": "code",
   "execution_count": 1,
   "id": "8637333d",
   "metadata": {},
   "outputs": [],
   "source": [
    "import pandas as pd"
   ]
  },
  {
   "cell_type": "code",
   "execution_count": 3,
   "id": "0b37f590",
   "metadata": {},
   "outputs": [
    {
     "name": "stdout",
     "output_type": "stream",
     "text": [
      "<module 'pandas' from '/Library/Frameworks/Python.framework/Versions/3.10/lib/python3.10/site-packages/pandas/__init__.py'>\n"
     ]
    }
   ],
   "source": [
    "filepath_dict = {\n",
    "    \"yelp\": \"data/yelp_labelled.txt\",\n",
    "        \"yelp\": \"data/yelp_labelled.txt\",\n",
    "        \"yelp\": \"data/yelp_labelled.txt\",\n",
    "}"
   ]
  },
  {
   "cell_type": "code",
   "execution_count": null,
   "id": "491f784f",
   "metadata": {},
   "outputs": [],
   "source": []
  }
 ],
 "metadata": {
  "kernelspec": {
   "display_name": "Python 3 (ipykernel)",
   "language": "python",
   "name": "python3"
  },
  "language_info": {
   "codemirror_mode": {
    "name": "ipython",
    "version": 3
   },
   "file_extension": ".py",
   "mimetype": "text/x-python",
   "name": "python",
   "nbconvert_exporter": "python",
   "pygments_lexer": "ipython3",
   "version": "3.10.4"
  }
 },
 "nbformat": 4,
 "nbformat_minor": 5
}
